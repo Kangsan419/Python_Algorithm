{
 "cells": [
  {
   "cell_type": "markdown",
   "id": "4c2c2207",
   "metadata": {},
   "source": [
    "# 01-1 알고리즘"
   ]
  },
  {
   "cell_type": "code",
   "execution_count": 3,
   "id": "e9713731",
   "metadata": {},
   "outputs": [
    {
     "name": "stdout",
     "output_type": "stream",
     "text": [
      "세 정수의 최댓값을 구합니다.\n",
      "정수 a의 값 입력 :1\n",
      "정수의 b 값 입력 :2\n",
      "정수의 c 값 입력 : 3\n",
      "최댓값은 3입니다\n"
     ]
    }
   ],
   "source": [
    "#세 정수를 입력 받아 최댓값 구하기 \n",
    "print('세 정수의 최댓값을 구합니다.')\n",
    "a = int(input('정수 a의 값 입력 :'))\n",
    "b = int(input('정수의 b 값 입력 :'))\n",
    "c = int(input('정수의 c 값 입력 : '))\n",
    "\n",
    "max = a\n",
    "if b > max : max = b\n",
    "if c > max : max = c\n",
    "    \n",
    "print(f'최댓값은 {max}입니다')"
   ]
  },
  {
   "cell_type": "markdown",
   "id": "40364392",
   "metadata": {},
   "source": [
    "* 한 문장씩 순서대로 처리되는 구조를 순차 구조 Sequential Structure\n",
    "* 조건식으로 평가한 결과에 따라 프로그램의 실행 흐림이 변경되는 구조 선택 구조  select structure "
   ]
  },
  {
   "cell_type": "markdown",
   "id": "d02de946",
   "metadata": {},
   "source": [
    "## 알고리즘 : 어떠한 문제를 해결하기 위해 저해 놓은 일련의 절차"
   ]
  },
  {
   "cell_type": "code",
   "execution_count": 8,
   "id": "4c2182de",
   "metadata": {},
   "outputs": [
    {
     "name": "stdout",
     "output_type": "stream",
     "text": [
      "세 정수의 중앙값을 구합니다.\n",
      "정수 a 값을 입력 :1\n",
      "정수 b 값을 입력 :2\n",
      "정수 c 값을 입력 :3\n",
      "중앙값은 2입니다\n"
     ]
    }
   ],
   "source": [
    "#세 정수를 입력받아 중앙값 구하기 1 \n",
    "\n",
    "def med3(a,b,c):\n",
    "    if a >=b : \n",
    "        if b>=c:\n",
    "            return b\n",
    "        elif a <= c:\n",
    "            return a\n",
    "        else:\n",
    "            return c \n",
    "    elif  a > c :\n",
    "            return a\n",
    "    elif b>c:\n",
    "        return c\n",
    "    else:\n",
    "        return b\n",
    "    \n",
    "print('세 정수의 중앙값을 구합니다.')\n",
    "a = int(input('정수 a 값을 입력 :'))\n",
    "b = int(input('정수 b 값을 입력 :'))\n",
    "c = int(input('정수 c 값을 입력 :'))\n",
    "\n",
    "print(f'중앙값은 {med3(a,b,c)}입니다')\n",
    "        "
   ]
  },
  {
   "cell_type": "markdown",
   "id": "848eeaac",
   "metadata": {},
   "source": [
    "# 01-2 반복하는 알고리즘"
   ]
  },
  {
   "cell_type": "code",
   "execution_count": 11,
   "id": "187029ca",
   "metadata": {},
   "outputs": [
    {
     "name": "stdout",
     "output_type": "stream",
     "text": [
      "1부터 n까지 정수의 합을 구합니다.\n",
      "n값을 입력 :10\n",
      "1부터 10까지 정수의 합은 55이다.\n",
      "i값은 11이다\n"
     ]
    }
   ],
   "source": [
    "#1부터 n까지 정수의 합 구하기(while 문)\n",
    "\n",
    "print('1부터 n까지 정수의 합을 구합니다.')\n",
    "n = int(input('n값을 입력 :'))\n",
    "\n",
    "sum = 0\n",
    "i = 1\n",
    "\n",
    "while i <= n:\n",
    "    sum += i \n",
    "    i += 1\n",
    "    \n",
    "print(f'1부터 {n}까지 정수의 합은 {sum}이다.')\n",
    "print(f'i값은 {i}이다')"
   ]
  },
  {
   "cell_type": "markdown",
   "id": "4feb4a06",
   "metadata": {},
   "source": [
    "#### while문 반복 알아보기 \n",
    "\n",
    "\n",
    "* 반복 구조 (repetition structure) :: 루프(loop) - 어떤 조건이 성립하는 동안 반복해서 처리하는 것\n",
    "* 판단 반복 구조 : 반복 전에 반복을 계속할 것인지를 판단하는 구조\n",
    "\n",
    ">while 조건식 : 명령문\n",
    "\n",
    "* 참고로 반복을 제어할 때 사용하는 i를 **카운터용 변수**라고 함"
   ]
  },
  {
   "cell_type": "markdown",
   "id": "056d68c5",
   "metadata": {},
   "source": [
    "#### for문 반복 알아보기 \n",
    "\n",
    "* 변수가 하나만 있을 때는 while문 보다 for문 사용하는 것이 더 좋음"
   ]
  },
  {
   "cell_type": "code",
   "execution_count": 12,
   "id": "6c585408",
   "metadata": {},
   "outputs": [
    {
     "name": "stdout",
     "output_type": "stream",
     "text": [
      "1부터 n까지 정수의 합을 구함.\n",
      "n값을 입력 :5\n",
      "1 부터 5까지 정수의 합은 15이다.\n"
     ]
    }
   ],
   "source": [
    "#1부터 n까지 정수의 합 구하기(for 문)\n",
    "print('1부터 n까지 정수의 합을 구함.')\n",
    "n = int(input('n값을 입력 :'))\n",
    "\n",
    "sum = 0\n",
    "for i in range(1,n+1):\n",
    "    sum += i\n",
    "    \n",
    "print(f'1 부터 {n}까지 정수의 합은 {sum}이다.')"
   ]
  },
  {
   "cell_type": "code",
   "execution_count": null,
   "id": "4c51c8a7",
   "metadata": {},
   "outputs": [],
   "source": []
  }
 ],
 "metadata": {
  "kernelspec": {
   "display_name": "Python 3 (ipykernel)",
   "language": "python",
   "name": "python3"
  },
  "language_info": {
   "codemirror_mode": {
    "name": "ipython",
    "version": 3
   },
   "file_extension": ".py",
   "mimetype": "text/x-python",
   "name": "python",
   "nbconvert_exporter": "python",
   "pygments_lexer": "ipython3",
   "version": "3.9.7"
  }
 },
 "nbformat": 4,
 "nbformat_minor": 5
}
